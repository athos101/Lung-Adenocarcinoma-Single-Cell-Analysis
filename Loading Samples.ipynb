{
 "cells": [
  {
   "cell_type": "markdown",
   "id": "738600b2",
   "metadata": {},
   "source": [
    "## Loading libraries"
   ]
  },
  {
   "cell_type": "code",
   "execution_count": 6,
   "id": "4cf7c58e",
   "metadata": {},
   "outputs": [],
   "source": [
    "import anndata as ad\n",
    "import scvi\n",
    "import numpy as np\n",
    "import pandas as pd\n",
    "from scipy import sparse\n",
    "import scanpy as sc\n",
    "import os"
   ]
  },
  {
   "cell_type": "markdown",
   "id": "db00cbc0",
   "metadata": {},
   "source": [
    "<h2>Loading data</h2>"
   ]
  },
  {
   "cell_type": "markdown",
   "id": "7adbcc35",
   "metadata": {},
   "source": [
    "<p style=\"color:orange; font-size:20px\">Reading all the samples in the respective sample path.</p>"
   ]
  },
  {
   "cell_type": "code",
   "execution_count": 79,
   "id": "780bc1a7",
   "metadata": {},
   "outputs": [
    {
     "data": {
      "text/plain": [
       "[AnnData object with n_obs × n_vars = 12183 × 33538\n",
       "     obs: 0, 'Patient', 'Condition',\n",
       " AnnData object with n_obs × n_vars = 14770 × 33538\n",
       "     obs: 0, 'Patient', 'Condition',\n",
       " AnnData object with n_obs × n_vars = 1547 × 33538\n",
       "     obs: 0, 'Patient', 'Condition',\n",
       " AnnData object with n_obs × n_vars = 1557 × 33538\n",
       "     obs: 0, 'Patient', 'Condition']"
      ]
     },
     "execution_count": 79,
     "metadata": {},
     "output_type": "execute_result"
    }
   ],
   "source": [
    "# Dir to the samples\n",
    "sample_path = 'Samples'\n",
    "# Folders between the sample name and the files (if doesn't exist, put '')\n",
    "middle_path = '/filtered_feature_bc_matrix'\n",
    "\n",
    "sample_names = []\n",
    "for foldername in os.listdir(sample_path):\n",
    "    if os.path.isdir(os.path.join(sample_path, foldername)):\n",
    "        sample_names.append(foldername)\n",
    "print(sample_names)\n",
    "# For each sample, read the directory to a list of samples.\n",
    "        \n",
    "sample_list = []\n",
    "\n",
    "for name in sample_names:\n",
    "    # Getting anndata (transposed to obs X vars)\n",
    "    path = f'samples/{name}{middle_path}/matrix.mtx.gz'\n",
    "    sample = sc.read(path, cache=True).T\n",
    "    \n",
    "    # Getting obs\n",
    "    path = f'samples/{name}{middle_path}/barcodes.tsv.gz'\n",
    "    obs = pd.read_csv(path, sep='\\t', header=None, index_col=0)\n",
    "    obs.index.name = 'barcode'\n",
    "    sample.obs = obs\n",
    "    \n",
    "    # Adding metadata\n",
    "    sample.obs['Patient'] = name\n",
    "    sample.obs['Condition'] = name[-1].upper()\n",
    "    \n",
    "    # Getting vars\n",
    "    path = f\"samples/{name}{middle_path}/features.tsv.gz\"\n",
    "    var = pd.read_table(path, sep='\\t', header=None, index_col=1)\n",
    "    var.index.name = 'genes'\n",
    "    sample.var = var\n",
    "    sample.var_names_make_unique(join=\"-\")\n",
    "    \n",
    "    \n",
    "    sample_list.append(sample)"
   ]
  },
  {
   "cell_type": "code",
   "execution_count": 81,
   "id": "5658790e",
   "metadata": {},
   "outputs": [
    {
     "name": "stderr",
     "output_type": "stream",
     "text": [
      "C:\\Users\\athos\\anaconda3\\envs\\scvi-env\\lib\\site-packages\\anndata\\_core\\anndata.py:117: ImplicitModificationWarning: Transforming to str index.\n",
      "  warnings.warn(\"Transforming to str index.\", ImplicitModificationWarning)\n",
      "C:\\Users\\athos\\anaconda3\\envs\\scvi-env\\lib\\site-packages\\anndata\\_core\\anndata.py:1830: UserWarning: Observation names are not unique. To make them unique, call `.obs_names_make_unique`.\n",
      "  utils.warn_names_duplicates(\"obs\")\n"
     ]
    },
    {
     "data": {
      "text/plain": [
       "AnnData object with n_obs × n_vars = 30057 × 33538\n",
       "    obs: 0, 'Patient', 'Condition'"
      ]
     },
     "execution_count": 81,
     "metadata": {},
     "output_type": "execute_result"
    }
   ],
   "source": [
    "adata = ad.concat(sample_list)\n",
    "del sample_list\n",
    "adata.obs_names_make_unique(join=\"-\")\n",
    "adata.obs['Author'] = 'Peng_2019'"
   ]
  },
  {
   "cell_type": "code",
   "execution_count": null,
   "id": "7b9d5495",
   "metadata": {},
   "outputs": [],
   "source": [
    "adata.write_h5ad(\"adata_v1.0.h5ad\")"
   ]
  }
 ],
 "metadata": {
  "kernelspec": {
   "display_name": "Python 3 (ipykernel)",
   "language": "python",
   "name": "python3"
  },
  "language_info": {
   "codemirror_mode": {
    "name": "ipython",
    "version": 3
   },
   "file_extension": ".py",
   "mimetype": "text/x-python",
   "name": "python",
   "nbconvert_exporter": "python",
   "pygments_lexer": "ipython3",
   "version": "3.9.16"
  }
 },
 "nbformat": 4,
 "nbformat_minor": 5
}
