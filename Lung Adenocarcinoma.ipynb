{
 "cells": [
  {
   "cell_type": "markdown",
   "id": "738600b2",
   "metadata": {},
   "source": [
    "## Loading libraries"
   ]
  },
  {
   "cell_type": "code",
   "execution_count": 1,
   "id": "4cf7c58e",
   "metadata": {},
   "outputs": [
    {
     "name": "stderr",
     "output_type": "stream",
     "text": [
      "Global seed set to 0\n"
     ]
    }
   ],
   "source": [
    "import anndata as ad\n",
    "import seaborn as sns\n",
    "from matplotlib import pyplot as plt\n",
    "import scvi\n",
    "import numpy as np\n",
    "import pandas as pd\n",
    "from scipy import sparse\n",
    "from scipy.stats import median_abs_deviation\n",
    "import scanpy as sc\n",
    "import os"
   ]
  },
  {
   "cell_type": "markdown",
   "id": "db00cbc0",
   "metadata": {},
   "source": [
    "<h2>Loading data</h2>"
   ]
  },
  {
   "cell_type": "markdown",
   "id": "7adbcc35",
   "metadata": {},
   "source": [
    "<p style=\"color:orange; font-size:20px\">Reading all the samples in the respective sample path.</p>"
   ]
  },
  {
   "cell_type": "code",
   "execution_count": 2,
   "id": "780bc1a7",
   "metadata": {},
   "outputs": [
    {
     "name": "stdout",
     "output_type": "stream",
     "text": [
      "['p018n', 'p018t', 'p019n', 'p019t', 'p023t', 'p024t', 'p027n', 'p027t', 'p028n', 'p029n', 'p030n', 'p030t', 'p031n', 'p031t', 'p032n', 'p032t', 'p033n', 'p033t', 'p034n', 'p034t']\n"
     ]
    }
   ],
   "source": [
    "# Dir to the samples\n",
    "sample_path = 'Samples'\n",
    "# Folders between the sample name and the files (if doesn't exist, put '')\n",
    "middle_path = '/filtered_feature_bc_matrix'\n",
    "\n",
    "sample_names = []\n",
    "for foldername in os.listdir(sample_path):\n",
    "    if os.path.isdir(os.path.join(sample_path, foldername)):\n",
    "        sample_names.append(foldername)\n",
    "print(sample_names)\n",
    "# For each sample, read the directory to a list of samples.\n",
    "        \n",
    "sample_list = []\n",
    "\n",
    "for name in sample_names:\n",
    "    # Getting anndata (transposed to obs X vars)\n",
    "    path = f'samples/{name}{middle_path}/matrix.mtx.gz'\n",
    "    sample = sc.read(path, cache=True).T\n",
    "    \n",
    "    # Getting obs\n",
    "    path = f'samples/{name}{middle_path}/barcodes.tsv.gz'\n",
    "    obs = pd.read_csv(path, sep='\\t', header=None, index_col=0)\n",
    "    obs.index.name = 'barcode'\n",
    "    sample.obs = obs\n",
    "    \n",
    "    # Adding metadata\n",
    "    sample.obs['Patient'] = name\n",
    "    sample.obs['Condition'] = name[-1].upper()\n",
    "    \n",
    "    # Getting vars\n",
    "    path = f\"samples/{name}{middle_path}/features.tsv.gz\"\n",
    "    var = pd.read_table(path, sep='\\t', header=None, index_col=1)\n",
    "    var.index.name = 'genes'\n",
    "    sample.var = var\n",
    "    sample.var_names_make_unique(join=\"-\")\n",
    "    \n",
    "    \n",
    "    sample_list.append(sample)"
   ]
  },
  {
   "cell_type": "code",
   "execution_count": 3,
   "id": "5658790e",
   "metadata": {},
   "outputs": [
    {
     "name": "stderr",
     "output_type": "stream",
     "text": [
      "C:\\Users\\athos\\anaconda3\\envs\\scvi-env\\lib\\site-packages\\anndata\\_core\\anndata.py:1830: UserWarning: Observation names are not unique. To make them unique, call `.obs_names_make_unique`.\n",
      "  utils.warn_names_duplicates(\"obs\")\n"
     ]
    }
   ],
   "source": [
    "adata = ad.concat(sample_list)\n",
    "del sample_list\n",
    "adata.obs_names_make_unique(join=\"-\")\n",
    "adata.obs['Author'] = 'Peng_2019'"
   ]
  },
  {
   "cell_type": "code",
   "execution_count": 6,
   "id": "fd88ea91",
   "metadata": {},
   "outputs": [],
   "source": [
    "adata.write_h5ad(\"adata_v1.0.h5ad\")"
   ]
  },
  {
   "cell_type": "markdown",
   "id": "b40a6478",
   "metadata": {},
   "source": [
    "## Removing doublets with SOLO (scVI)"
   ]
  },
  {
   "cell_type": "markdown",
   "id": "581914fe",
   "metadata": {},
   "source": [
    "<p style='color:orange; font-size:20px'>Removing cells with zero counts, to avoid errors in the model training.<\\p>"
   ]
  },
  {
   "cell_type": "code",
   "execution_count": 7,
   "id": "a8d65691",
   "metadata": {},
   "outputs": [
    {
     "data": {
      "text/plain": [
       "(133736, 33538)"
      ]
     },
     "execution_count": 7,
     "metadata": {},
     "output_type": "execute_result"
    }
   ],
   "source": [
    "adata.shape"
   ]
  },
  {
   "cell_type": "code",
   "execution_count": 8,
   "id": "8671bf5c",
   "metadata": {},
   "outputs": [
    {
     "data": {
      "text/plain": [
       "(131669, 33538)"
      ]
     },
     "execution_count": 8,
     "metadata": {},
     "output_type": "execute_result"
    }
   ],
   "source": [
    "sc.pp.filter_cells(adata, min_counts=500)\n",
    "sc.pp.filter_cells(adata, min_genes=200)\n",
    "adata.shape"
   ]
  },
  {
   "cell_type": "code",
   "execution_count": 9,
   "id": "90745afa",
   "metadata": {},
   "outputs": [],
   "source": [
    "adata.layers['counts'] = adata.X.copy()"
   ]
  },
  {
   "cell_type": "markdown",
   "id": "86a93d29",
   "metadata": {},
   "source": [
    "<p style=\"color:orange; font-size:20px\">Making the model.</p>"
   ]
  },
  {
   "cell_type": "code",
   "execution_count": null,
   "id": "8460cfa2",
   "metadata": {},
   "outputs": [
    {
     "name": "stdout",
     "output_type": "stream",
     "text": [
      "\u001b[34mINFO    \u001b[0m Using batches from adata.obs\u001b[1m[\u001b[0m\u001b[32m\"Patient\"\u001b[0m\u001b[1m]\u001b[0m                                                                   \n",
      "\u001b[34mINFO    \u001b[0m No label_key inputted, assuming all cells have same label                                                 \n",
      "\u001b[34mINFO    \u001b[0m Using data from adata.layers\u001b[1m[\u001b[0m\u001b[32m\"counts\"\u001b[0m\u001b[1m]\u001b[0m                                                                    \n",
      "\u001b[34mINFO    \u001b[0m Successfully registered anndata object containing \u001b[1;36m131669\u001b[0m cells, \u001b[1;36m33538\u001b[0m vars, \u001b[1;36m20\u001b[0m batches, \u001b[1;36m1\u001b[0m labels, and \u001b[1;36m0\u001b[0m   \n",
      "         proteins. Also registered \u001b[1;36m0\u001b[0m extra categorical covariates and \u001b[1;36m0\u001b[0m extra continuous covariates.               \n",
      "\u001b[34mINFO    \u001b[0m Please do not further modify adata until model is trained.                                                \n"
     ]
    },
    {
     "name": "stderr",
     "output_type": "stream",
     "text": [
      "GPU available: False, used: False\n",
      "TPU available: False, using: 0 TPU cores\n"
     ]
    },
    {
     "name": "stdout",
     "output_type": "stream",
     "text": [
      "Epoch 1/61:   0%|                                                                               | 0/61 [00:00<?, ?it/s]"
     ]
    }
   ],
   "source": [
    "scvi.model.SCVI.setup_anndata(adata, layer='counts', batch_key='Patient')\n",
    "model = scvi.model.SCVI(adata)\n",
    "model.train()"
   ]
  },
  {
   "cell_type": "markdown",
   "id": "e7327206",
   "metadata": {},
   "source": [
    "<p style=\"color:orange; font-size:20px\">Creating and training SOLO model.</p>"
   ]
  },
  {
   "cell_type": "code",
   "execution_count": null,
   "id": "43f525d6",
   "metadata": {},
   "outputs": [],
   "source": [
    "solo = scvi.external.SOLO.from_scvi_model(model)\n",
    "solo.train()"
   ]
  },
  {
   "cell_type": "markdown",
   "id": "61a647eb",
   "metadata": {},
   "source": [
    "<p style=\"color:orange; font-size:20px\">We then extract a predition dataframe. But as SOLO adds 2 characters in the barcode, we remove it for it to be the same format as Anndata.</p>"
   ]
  },
  {
   "cell_type": "code",
   "execution_count": null,
   "id": "284cd217",
   "metadata": {},
   "outputs": [],
   "source": [
    "df = solo.predict()\n",
    "df['prediction'] = solo.predict(soft = False)\n",
    "df"
   ]
  },
  {
   "cell_type": "code",
   "execution_count": null,
   "id": "7f0ba709",
   "metadata": {},
   "outputs": [],
   "source": [
    "df.groupby('prediction').count()\n",
    "adata.obs['doublet_pred'] = df.prediction"
   ]
  },
  {
   "cell_type": "markdown",
   "id": "18b25ead",
   "metadata": {},
   "source": [
    "<p style=\"color:orange; font-size:20px\">Savind data for Seurat workflow.</p>"
   ]
  },
  {
   "cell_type": "code",
   "execution_count": null,
   "id": "ba530ea6",
   "metadata": {},
   "outputs": [],
   "source": [
    "adata.obs.to_csv(\"C:/Users/athos/UFCSPA/INICIAÇÃO CIENTÍFICA/Python Experiments/Lung Adenocarcinoma/metadata_workflow_peng.csv\")"
   ]
  },
  {
   "cell_type": "markdown",
   "id": "dcff132f",
   "metadata": {},
   "source": [
    "## Loading the raw data after SOLO"
   ]
  },
  {
   "cell_type": "code",
   "execution_count": null,
   "id": "851f921f",
   "metadata": {},
   "outputs": [],
   "source": [
    "metadata = pd.read_csv(\"C:/Users/athos/UFCSPA/INICIAÇÃO CIENTÍFICA/Python Experiments/Lung Adenocarcinoma/metadata_workflow_peng.csv\", index_col = 0)\n",
    "adata.obs = metadata\n",
    "adata.obs"
   ]
  },
  {
   "cell_type": "code",
   "execution_count": null,
   "id": "2f99b638",
   "metadata": {},
   "outputs": [],
   "source": [
    "adata = adata[adata.obs.doublet_pred == 'singlet'].copy()"
   ]
  },
  {
   "cell_type": "markdown",
   "id": "6e0fc7d2",
   "metadata": {},
   "source": [
    "## QC - Filtering low quality cells; run before SOLO, and after SOLO with the raw data (will be loaded again further in the downstream)."
   ]
  },
  {
   "cell_type": "markdown",
   "id": "0376d4cc",
   "metadata": {},
   "source": [
    "<p style=\"color:orange; font-size:20px\">Calculating QC metrics.</p>"
   ]
  },
  {
   "cell_type": "code",
   "execution_count": null,
   "id": "1f7a9d3b",
   "metadata": {},
   "outputs": [],
   "source": [
    "sc.pp.normalize_total(adata, target_sum=1e4)\n",
    "sc.pp.log1p(adata)"
   ]
  },
  {
   "cell_type": "code",
   "execution_count": null,
   "id": "a8961901",
   "metadata": {},
   "outputs": [],
   "source": [
    "sc.pp.highly_variable_genes(adata, flavor='seurat_v3', n_top_genes=3000, layer='counts',subset=True, batch_key=\"Author\")"
   ]
  },
  {
   "cell_type": "code",
   "execution_count": null,
   "id": "6397e414",
   "metadata": {},
   "outputs": [],
   "source": [
    "# mitochondrial genes\n",
    "adata.var[\"mt\"] = adata.var_names.str.startswith(\"MT-\")\n",
    "# ribosomal genes\n",
    "adata.var[\"ribo\"] = adata.var_names.str.startswith((\"RPS\", \"RPL\"))\n",
    "# hemoglobin genes.\n",
    "adata.var[\"hb\"] = adata.var_names.str.contains((\"^HB[^(P)]\"))"
   ]
  },
  {
   "cell_type": "code",
   "execution_count": null,
   "id": "293c67c8",
   "metadata": {},
   "outputs": [],
   "source": [
    "sc.pp.calculate_qc_metrics(\n",
    "    adata, qc_vars=[\"mt\", \"ribo\", \"hb\"], inplace=True, percent_top=[20], log1p=True\n",
    ")\n",
    "adata"
   ]
  },
  {
   "cell_type": "code",
   "execution_count": null,
   "id": "ca51a26e",
   "metadata": {},
   "outputs": [],
   "source": [
    "# plot1 = sns.displot(adata.obs[\"total_counts\"], bins=100, kde=False)\n",
    "# plot3 = sc.pl.scatter(adata, \"total_counts\", \"n_genes_by_counts\")"
   ]
  },
  {
   "cell_type": "code",
   "execution_count": null,
   "id": "4bb4852a",
   "metadata": {},
   "outputs": [],
   "source": [
    "sc.pl.violin(adata, ['n_genes_by_counts', 'total_counts', 'pct_counts_ribo', 'pct_counts_hb'],\n",
    "         jitter=0.4, multi_panel=True)"
   ]
  },
  {
   "cell_type": "markdown",
   "id": "4cacfe36",
   "metadata": {},
   "source": [
    "<p style=\"color:orange; font-size:20px\">Automatic threshold (outlier detection) with MAD.</p>"
   ]
  },
  {
   "cell_type": "code",
   "execution_count": null,
   "id": "9b9eaa58",
   "metadata": {},
   "outputs": [],
   "source": [
    "def is_outlier(adata, metric: str, nmads: int):\n",
    "    M = adata.obs[metric]\n",
    "    outlier = (M < np.median(M) - nmads * median_abs_deviation(M)) | (\n",
    "        np.median(M) + nmads * median_abs_deviation(M) < M\n",
    "    )\n",
    "    return outlier"
   ]
  },
  {
   "cell_type": "code",
   "execution_count": null,
   "id": "3c805849",
   "metadata": {},
   "outputs": [],
   "source": [
    "adata.obs[\"outlier\"] = (\n",
    "    is_outlier(adata, \"log1p_total_counts\", 5)\n",
    "    | is_outlier(adata, \"log1p_n_genes_by_counts\", 5)\n",
    "    | is_outlier(adata, \"pct_counts_in_top_20_genes\", 5)\n",
    ")\n",
    "\n",
    "adata.obs.outlier.value_counts()"
   ]
  },
  {
   "cell_type": "code",
   "execution_count": null,
   "id": "a9e1086f",
   "metadata": {},
   "outputs": [],
   "source": [
    "print(f\"Total number of cells: {adata.n_obs}\")\n",
    "adata = adata[(~adata.obs.outlier)].copy()\n",
    "\n",
    "print(f\"Number of cells after filtering of low quality cells: {adata.n_obs}\")"
   ]
  },
  {
   "cell_type": "code",
   "execution_count": null,
   "id": "17f71c65",
   "metadata": {},
   "outputs": [],
   "source": [
    "sc.pl.highest_expr_genes(adata, n_top=20, )"
   ]
  },
  {
   "cell_type": "markdown",
   "id": "79666152",
   "metadata": {},
   "source": [
    "## Integração com scVI"
   ]
  },
  {
   "cell_type": "code",
   "execution_count": null,
   "id": "678fad11",
   "metadata": {},
   "outputs": [],
   "source": [
    "scvi.model.SCVI.setup_anndata(adata, batch_key=\"Patient\", layer=\"counts\")"
   ]
  },
  {
   "cell_type": "code",
   "execution_count": null,
   "id": "2cabc181",
   "metadata": {},
   "outputs": [],
   "source": [
    "arches_params = dict(\n",
    "    use_layer_norm=\"both\",\n",
    "    use_batch_norm=\"none\",\n",
    "    encode_covariates=True,\n",
    "    dropout_rate=0.2,\n",
    "    n_layers=2,\n",
    ")\n",
    "\n",
    "vae = scvi.model.SCVI(adata, **arches_params)\n",
    "vae.train()"
   ]
  },
  {
   "cell_type": "code",
   "execution_count": null,
   "id": "113d2267",
   "metadata": {},
   "outputs": [],
   "source": [
    "adata.obsm[\"X_scVI\"] = vae.get_latent_representation()\n",
    "adata.layers['scvi_normalized'] = vae.get_normalized_expression(library_size = 1e4)\n",
    "sc.pp.neighbors(adata, use_rep=\"X_scVI\")\n",
    "sc.tl.umap(adata)"
   ]
  },
  {
   "cell_type": "markdown",
   "id": "baa48cb3",
   "metadata": {},
   "source": [
    "## Umap Visualization"
   ]
  },
  {
   "cell_type": "markdown",
   "id": "37271daf",
   "metadata": {},
   "source": [
    "<p style=\"color:orange; font-size:20px\">Visualizing Batch Correction.</p>"
   ]
  },
  {
   "cell_type": "code",
   "execution_count": null,
   "id": "36c74da8",
   "metadata": {},
   "outputs": [],
   "source": [
    "sc.pl.umap(adata, color = ['Condition', 'Patient'], frameon=False, ncols = 2)"
   ]
  },
  {
   "cell_type": "markdown",
   "id": "8031c542",
   "metadata": {},
   "source": [
    "<p style=\"color:orange; font-size:20px\">Visualizing canonic genes. → Section in umap-analysis-1.ipynb</p>"
   ]
  },
  {
   "cell_type": "markdown",
   "id": "738411bd",
   "metadata": {},
   "source": [
    "<p style=\"color:orange; font-size:20px\">Changing resolution.</p>"
   ]
  },
  {
   "cell_type": "code",
   "execution_count": null,
   "id": "0c77dcf9",
   "metadata": {},
   "outputs": [],
   "source": [
    "for resolution in [0.2, 0.5, 1.0, 1.5]:\n",
    "    sc.tl.leiden(adata, resolution=resolution, key_added=f\"leiden_r{resolution}\", random_state=0)"
   ]
  },
  {
   "cell_type": "code",
   "execution_count": null,
   "id": "6d1c4d69",
   "metadata": {},
   "outputs": [],
   "source": [
    "sc.pl.umap(adata, color=['leiden_r0.2','leiden_r0.5', 'leiden_r1.0', 'leiden_r1.5'], frameon=False, ncols=1)"
   ]
  },
  {
   "cell_type": "code",
   "execution_count": null,
   "id": "29f9d691",
   "metadata": {},
   "outputs": [],
   "source": [
    "sc.tl.rank_genes_groups(adata, 'leiden_r0.2', method='wilcoxon')\n",
    "markers = sc.get.rank_genes_groups_df(adata, None)\n",
    "markers = markers[(markers.pvals_adj < 0.05) & (markers.logfoldchanges > .5)]"
   ]
  },
  {
   "cell_type": "code",
   "execution_count": null,
   "id": "9b1dbae6",
   "metadata": {},
   "outputs": [],
   "source": [
    "markers"
   ]
  },
  {
   "cell_type": "markdown",
   "id": "f48ea440",
   "metadata": {},
   "source": [
    "<p style=\"color:orange; font-size:20px\">Defining and analysing cell markers.</p>"
   ]
  },
  {
   "cell_type": "code",
   "execution_count": null,
   "id": "347b865b",
   "metadata": {},
   "outputs": [],
   "source": [
    "print(adata.var_names)"
   ]
  },
  {
   "cell_type": "code",
   "execution_count": null,
   "id": "23789960",
   "metadata": {},
   "outputs": [],
   "source": [
    "cell_markers = {\n",
    "    'Immune': ['S100A8', 'LYZ', 'FABP4', 'CD14'],\n",
    "    'Tumor' : ['EGFR', 'TFF3', 'CDKN2A', 'SFTPA2'],\n",
    "    'Stroma': ['PROX1', 'CCL21', 'PDGFRA', 'CLDN5', 'VWF', 'PLVAP'],\n",
    "    'Epithelial': ['CALCA', 'MUC5B', 'KRT5'],\n",
    "}\n",
    "\n",
    "# Could not find keys '['AIF1' (my), 'CD3E' (tnk), 'CD68' (my), 'CD79B' (b), 'CD8A' (tnk), 'FOXP3', (tnk)]'"
   ]
  },
  {
   "cell_type": "code",
   "execution_count": null,
   "id": "9900b4e6",
   "metadata": {},
   "outputs": [],
   "source": [
    "sc.pl.dotplot(adata, cell_markers, 'leiden_r0.2', dendrogram=False)\n",
    "sc.pl.dotplot(adata, cell_markers, 'leiden_r0.5', dendrogram=False)\n",
    "sc.pl.dotplot(adata, cell_markers, 'leiden_r1.0', dendrogram=False)\n",
    "sc.pl.dotplot(adata, cell_markers, 'leiden_r1.5', dendrogram=False)"
   ]
  }
 ],
 "metadata": {
  "kernelspec": {
   "display_name": "Python 3 (ipykernel)",
   "language": "python",
   "name": "python3"
  },
  "language_info": {
   "codemirror_mode": {
    "name": "ipython",
    "version": 3
   },
   "file_extension": ".py",
   "mimetype": "text/x-python",
   "name": "python",
   "nbconvert_exporter": "python",
   "pygments_lexer": "ipython3",
   "version": "3.9.16"
  }
 },
 "nbformat": 4,
 "nbformat_minor": 5
}
