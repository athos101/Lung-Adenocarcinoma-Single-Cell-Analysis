{
 "cells": [
  {
   "cell_type": "markdown",
   "id": "738600b2",
   "metadata": {},
   "source": [
    "## Loading libraries"
   ]
  },
  {
   "cell_type": "code",
   "execution_count": 12,
   "id": "4cf7c58e",
   "metadata": {},
   "outputs": [],
   "source": [
    "import anndata as ad\n",
    "import scvi\n",
    "import numpy as np\n",
    "import pandas as pd\n",
    "from scipy import sparse\n",
    "import scanpy as sc\n",
    "import os"
   ]
  },
  {
   "cell_type": "markdown",
   "id": "db00cbc0",
   "metadata": {},
   "source": [
    "<h2>Loading data</h2>"
   ]
  },
  {
   "cell_type": "markdown",
   "id": "7adbcc35",
   "metadata": {},
   "source": [
    "<p style=\"color:orange; font-size:20px\">Reading all the samples in the respective sample path.</p>"
   ]
  },
  {
   "cell_type": "code",
   "execution_count": 13,
   "id": "780bc1a7",
   "metadata": {},
   "outputs": [
    {
     "data": {
      "text/plain": [
       "[AnnData object with n_obs × n_vars = 12183 × 33538\n",
       "     obs: 0, 'Patient', 'Condition',\n",
       " AnnData object with n_obs × n_vars = 14770 × 33538\n",
       "     obs: 0, 'Patient', 'Condition',\n",
       " AnnData object with n_obs × n_vars = 1547 × 33538\n",
       "     obs: 0, 'Patient', 'Condition',\n",
       " AnnData object with n_obs × n_vars = 1557 × 33538\n",
       "     obs: 0, 'Patient', 'Condition']"
      ]
     },
     "execution_count": 13,
     "metadata": {},
     "output_type": "execute_result"
    }
   ],
   "source": [
    "# Dir to the samples\n",
    "sample_path = 'Samples'\n",
    "# Folders between the sample name and the files (if doesn't exist, put '')\n",
    "middle_path = '/filtered_feature_bc_matrix'\n",
    "\n",
    "sample_names = []\n",
    "for foldername in os.listdir(sample_path):\n",
    "    if os.path.isdir(os.path.join(sample_path, foldername)):\n",
    "        sample_names.append(foldername)\n",
    "\n",
    "# For each sample, read the directory to a list of samples.\n",
    "        \n",
    "sample_list = []\n",
    "\n",
    "for name in sample_names:\n",
    "    # Getting anndata (transposed to obs X vars)\n",
    "    path = f'samples/{name}{middle_path}/matrix.mtx.gz'\n",
    "    sample = sc.read(path, cache=True).T\n",
    "    \n",
    "    # Getting obs\n",
    "    path = f'samples/{name}{middle_path}/barcodes.tsv.gz'\n",
    "    obs = pd.read_csv(path, sep='\\t', header=None)\n",
    "    obs.index.name = 'barcode'\n",
    "    sample.obs = obs\n",
    "    \n",
    "    # Adding metadata\n",
    "    sample.obs['Patient'] = name\n",
    "    sample.obs['Condition'] = name[-1].upper()\n",
    "    \n",
    "    # Getting vars\n",
    "    path = f\"samples/{name}{middle_path}/features.tsv.gz\"\n",
    "    var = pd.read_csv(path, sep='\\t', header=None)\n",
    "    var.index.name = 'genes'\n",
    "    sample.vars = var\n",
    "    \n",
    "    sample_list.append(sample)\n",
    "sample_list"
   ]
  },
  {
   "cell_type": "code",
   "execution_count": 14,
   "id": "5658790e",
   "metadata": {},
   "outputs": [
    {
     "name": "stderr",
     "output_type": "stream",
     "text": [
      "C:\\Users\\athos\\anaconda3\\envs\\scvi-env\\lib\\site-packages\\anndata\\_core\\anndata.py:117: ImplicitModificationWarning: Transforming to str index.\n",
      "  warnings.warn(\"Transforming to str index.\", ImplicitModificationWarning)\n",
      "C:\\Users\\athos\\anaconda3\\envs\\scvi-env\\lib\\site-packages\\anndata\\_core\\anndata.py:1830: UserWarning: Observation names are not unique. To make them unique, call `.obs_names_make_unique`.\n",
      "  utils.warn_names_duplicates(\"obs\")\n"
     ]
    },
    {
     "data": {
      "text/plain": [
       "AnnData object with n_obs × n_vars = 30057 × 33538\n",
       "    obs: 0, 'Patient', 'Condition'"
      ]
     },
     "execution_count": 14,
     "metadata": {},
     "output_type": "execute_result"
    }
   ],
   "source": [
    "adata = ad.concat(sample_list)\n",
    "del sample_list\n",
    "\n",
    "adata.var_names_make_unique()\n",
    "adata.obs_names_make_unique()\n",
    "adata"
   ]
  },
  {
   "cell_type": "code",
   "execution_count": 22,
   "id": "789b6825",
   "metadata": {},
   "outputs": [],
   "source": [
    "adata.obs['author'] = 'Peng_2019'"
   ]
  },
  {
   "cell_type": "markdown",
   "id": "b40a6478",
   "metadata": {},
   "source": [
    "## QC - Removing doublets with SOLO (scVI)"
   ]
  },
  {
   "cell_type": "markdown",
   "id": "86a93d29",
   "metadata": {},
   "source": [
    "<p style=\"color:orange; font-size:20px\">Making the model.</p>"
   ]
  },
  {
   "cell_type": "code",
   "execution_count": 15,
   "id": "9cdfab4d",
   "metadata": {},
   "outputs": [],
   "source": [
    "adata.layers['counts'] = adata.X.copy()\n",
    "sc.pp.normalize_total(adata, target_sum=1e4)\n",
    "sc.pp.log1p(adata)"
   ]
  },
  {
   "cell_type": "code",
   "execution_count": 16,
   "id": "3594ae6d",
   "metadata": {},
   "outputs": [],
   "source": [
    "sc.pp.highly_variable_genes(adata, flavor='seurat_v3', n_top_genes=3000, layer='counts',subset=True, batch_key=\"author\")"
   ]
  },
  {
   "cell_type": "code",
   "execution_count": 17,
   "id": "2984d6f2",
   "metadata": {},
   "outputs": [
    {
     "data": {
      "text/plain": [
       "(30057, 3000)"
      ]
     },
     "execution_count": 17,
     "metadata": {},
     "output_type": "execute_result"
    }
   ],
   "source": [
    "adata.shape"
   ]
  },
  {
   "cell_type": "code",
   "execution_count": 18,
   "id": "8460cfa2",
   "metadata": {},
   "outputs": [
    {
     "name": "stdout",
     "output_type": "stream",
     "text": [
      "\u001b[34mINFO    \u001b[0m No batch_key inputted, assuming all cells are same batch                                                  \n",
      "\u001b[34mINFO    \u001b[0m No label_key inputted, assuming all cells have same label                                                 \n",
      "\u001b[34mINFO    \u001b[0m Using data from adata.X                                                                                   \n",
      "\u001b[34mINFO    \u001b[0m Successfully registered anndata object containing \u001b[1;36m30057\u001b[0m cells, \u001b[1;36m3000\u001b[0m vars, \u001b[1;36m1\u001b[0m batches, \u001b[1;36m1\u001b[0m labels, and \u001b[1;36m0\u001b[0m      \n",
      "         proteins. Also registered \u001b[1;36m0\u001b[0m extra categorical covariates and \u001b[1;36m0\u001b[0m extra continuous covariates.               \n",
      "\u001b[34mINFO    \u001b[0m Please do not further modify adata until model is trained.                                                \n"
     ]
    },
    {
     "name": "stderr",
     "output_type": "stream",
     "text": [
      "C:\\Users\\athos\\anaconda3\\envs\\scvi-env\\lib\\site-packages\\scvi\\model\\base\\_base_model.py:150: UserWarning: Make sure the registered X field in anndata contains unnormalized count data.\n",
      "  warnings.warn(\n",
      "GPU available: False, used: False\n",
      "TPU available: False, using: 0 TPU cores\n"
     ]
    },
    {
     "name": "stdout",
     "output_type": "stream",
     "text": [
      "Epoch 1/266:   0%|                                                                             | 0/266 [00:00<?, ?it/s]"
     ]
    },
    {
     "name": "stderr",
     "output_type": "stream",
     "text": [
      "C:\\Users\\athos\\anaconda3\\envs\\scvi-env\\lib\\site-packages\\scvi\\distributions\\_negative_binomial.py:433: UserWarning: The value argument must be within the support of the distribution\n",
      "  warnings.warn(\n",
      "C:\\Users\\athos\\anaconda3\\envs\\scvi-env\\lib\\site-packages\\scvi\\distributions\\_negative_binomial.py:433: UserWarning: The value argument must be within the support of the distribution\n",
      "  warnings.warn(\n"
     ]
    },
    {
     "name": "stdout",
     "output_type": "stream",
     "text": [
      "Epoch 2/266:   0%|▏                                               | 1/266 [00:21<1:36:18, 21.81s/it, loss=561, v_num=1]"
     ]
    },
    {
     "name": "stderr",
     "output_type": "stream",
     "text": [
      "C:\\Users\\athos\\anaconda3\\envs\\scvi-env\\lib\\site-packages\\scvi\\distributions\\_negative_binomial.py:433: UserWarning: The value argument must be within the support of the distribution\n",
      "  warnings.warn(\n"
     ]
    },
    {
     "name": "stdout",
     "output_type": "stream",
     "text": [
      "Epoch 266/266: 100%|████████████████████████████████████████████| 266/266 [1:40:53<00:00, 22.76s/it, loss=487, v_num=1]\n"
     ]
    }
   ],
   "source": [
    "scvi.model.SCVI.setup_anndata(adata)\n",
    "vae = scvi.model.SCVI(adata)\n",
    "vae.train()"
   ]
  },
  {
   "cell_type": "markdown",
   "id": "e7327206",
   "metadata": {},
   "source": [
    "<p style=\"color:orange; font-size:20px\">Creating and training SOLO model.</p>"
   ]
  },
  {
   "cell_type": "code",
   "execution_count": 19,
   "id": "43f525d6",
   "metadata": {},
   "outputs": [
    {
     "name": "stderr",
     "output_type": "stream",
     "text": [
      "C:\\Users\\athos\\anaconda3\\envs\\scvi-env\\lib\\site-packages\\scvi\\model\\base\\_base_model.py:150: UserWarning: Make sure the registered X field in anndata contains unnormalized count data.\n",
      "  warnings.warn(\n"
     ]
    },
    {
     "name": "stdout",
     "output_type": "stream",
     "text": [
      "\u001b[34mINFO    \u001b[0m Creating doublets, preparing SOLO model.                                                                  \n"
     ]
    },
    {
     "name": "stderr",
     "output_type": "stream",
     "text": [
      "C:\\Users\\athos\\anaconda3\\envs\\scvi-env\\lib\\site-packages\\scvi\\model\\base\\_base_model.py:150: UserWarning: Make sure the registered X field in anndata contains unnormalized count data.\n",
      "  warnings.warn(\n",
      "C:\\Users\\athos\\anaconda3\\envs\\scvi-env\\lib\\site-packages\\anndata\\_core\\anndata.py:1755: FutureWarning: The AnnData.concatenate method is deprecated in favour of the anndata.concat function. Please use anndata.concat instead.\n",
      "\n",
      "See the tutorial for concat at: https://anndata.readthedocs.io/en/latest/concatenation.html\n",
      "  warnings.warn(\n"
     ]
    },
    {
     "ename": "AttributeError",
     "evalue": "Can only use .str accessor with string values!",
     "output_type": "error",
     "traceback": [
      "\u001b[1;31m---------------------------------------------------------------------------\u001b[0m",
      "\u001b[1;31mAttributeError\u001b[0m                            Traceback (most recent call last)",
      "Cell \u001b[1;32mIn[19], line 1\u001b[0m\n\u001b[1;32m----> 1\u001b[0m solo \u001b[38;5;241m=\u001b[39m \u001b[43mscvi\u001b[49m\u001b[38;5;241;43m.\u001b[39;49m\u001b[43mexternal\u001b[49m\u001b[38;5;241;43m.\u001b[39;49m\u001b[43mSOLO\u001b[49m\u001b[38;5;241;43m.\u001b[39;49m\u001b[43mfrom_scvi_model\u001b[49m\u001b[43m(\u001b[49m\u001b[43mvae\u001b[49m\u001b[43m)\u001b[49m\n\u001b[0;32m      2\u001b[0m solo\u001b[38;5;241m.\u001b[39mtrain()\n",
      "File \u001b[1;32m~\\anaconda3\\envs\\scvi-env\\lib\\site-packages\\scvi\\external\\solo\\_model.py:195\u001b[0m, in \u001b[0;36mSOLO.from_scvi_model\u001b[1;34m(cls, scvi_model, adata, restrict_to_batch, doublet_ratio, **classifier_kwargs)\u001b[0m\n\u001b[0;32m    190\u001b[0m     doublet_adata \u001b[38;5;241m=\u001b[39m AnnData(\n\u001b[0;32m    191\u001b[0m         np\u001b[38;5;241m.\u001b[39mconcatenate([doublet_latent_rep, np\u001b[38;5;241m.\u001b[39mlog(doublet_lib_size)], axis\u001b[38;5;241m=\u001b[39m\u001b[38;5;241m1\u001b[39m)\n\u001b[0;32m    192\u001b[0m     )\n\u001b[0;32m    193\u001b[0m     doublet_adata\u001b[38;5;241m.\u001b[39mobs[LABELS_KEY] \u001b[38;5;241m=\u001b[39m \u001b[38;5;124m\"\u001b[39m\u001b[38;5;124mdoublet\u001b[39m\u001b[38;5;124m\"\u001b[39m\n\u001b[1;32m--> 195\u001b[0m     full_adata \u001b[38;5;241m=\u001b[39m \u001b[43mlatent_adata\u001b[49m\u001b[38;5;241;43m.\u001b[39;49m\u001b[43mconcatenate\u001b[49m\u001b[43m(\u001b[49m\u001b[43mdoublet_adata\u001b[49m\u001b[43m)\u001b[49m\n\u001b[0;32m    196\u001b[0m     \u001b[38;5;28mcls\u001b[39m\u001b[38;5;241m.\u001b[39msetup_anndata(full_adata, labels_key\u001b[38;5;241m=\u001b[39mLABELS_KEY)\n\u001b[0;32m    197\u001b[0m \u001b[38;5;28;01mreturn\u001b[39;00m \u001b[38;5;28mcls\u001b[39m(full_adata, \u001b[38;5;241m*\u001b[39m\u001b[38;5;241m*\u001b[39mclassifier_kwargs)\n",
      "File \u001b[1;32m~\\anaconda3\\envs\\scvi-env\\lib\\site-packages\\anndata\\_core\\anndata.py:1808\u001b[0m, in \u001b[0;36mAnnData.concatenate\u001b[1;34m(self, join, batch_key, batch_categories, uns_merge, index_unique, fill_value, *adatas)\u001b[0m\n\u001b[0;32m   1799\u001b[0m pat \u001b[38;5;241m=\u001b[39m \u001b[38;5;124mrf\u001b[39m\u001b[38;5;124m\"\u001b[39m\u001b[38;5;124m-(\u001b[39m\u001b[38;5;132;01m{\u001b[39;00m\u001b[38;5;124m'\u001b[39m\u001b[38;5;124m|\u001b[39m\u001b[38;5;124m'\u001b[39m\u001b[38;5;241m.\u001b[39mjoin(batch_categories)\u001b[38;5;132;01m}\u001b[39;00m\u001b[38;5;124m)$\u001b[39m\u001b[38;5;124m\"\u001b[39m\n\u001b[0;32m   1800\u001b[0m out\u001b[38;5;241m.\u001b[39mvar \u001b[38;5;241m=\u001b[39m merge_dataframes(\n\u001b[0;32m   1801\u001b[0m     [a\u001b[38;5;241m.\u001b[39mvar \u001b[38;5;28;01mfor\u001b[39;00m a \u001b[38;5;129;01min\u001b[39;00m all_adatas],\n\u001b[0;32m   1802\u001b[0m     out\u001b[38;5;241m.\u001b[39mvar_names,\n\u001b[0;32m   1803\u001b[0m     partial(merge_outer, batch_keys\u001b[38;5;241m=\u001b[39mbatch_categories, merge\u001b[38;5;241m=\u001b[39mmerge_same),\n\u001b[0;32m   1804\u001b[0m )\n\u001b[0;32m   1805\u001b[0m out\u001b[38;5;241m.\u001b[39mvar \u001b[38;5;241m=\u001b[39m out\u001b[38;5;241m.\u001b[39mvar\u001b[38;5;241m.\u001b[39miloc[\n\u001b[0;32m   1806\u001b[0m     :,\n\u001b[0;32m   1807\u001b[0m     (\n\u001b[1;32m-> 1808\u001b[0m         \u001b[43mout\u001b[49m\u001b[38;5;241;43m.\u001b[39;49m\u001b[43mvar\u001b[49m\u001b[38;5;241;43m.\u001b[39;49m\u001b[43mcolumns\u001b[49m\u001b[38;5;241;43m.\u001b[39;49m\u001b[43mstr\u001b[49m\u001b[38;5;241m.\u001b[39mextract(pat, expand\u001b[38;5;241m=\u001b[39m\u001b[38;5;28;01mFalse\u001b[39;00m)\n\u001b[0;32m   1809\u001b[0m         \u001b[38;5;241m.\u001b[39mfillna(\u001b[38;5;124m\"\u001b[39m\u001b[38;5;124m\"\u001b[39m)\n\u001b[0;32m   1810\u001b[0m         \u001b[38;5;241m.\u001b[39margsort(kind\u001b[38;5;241m=\u001b[39m\u001b[38;5;124m\"\u001b[39m\u001b[38;5;124mstable\u001b[39m\u001b[38;5;124m\"\u001b[39m)\n\u001b[0;32m   1811\u001b[0m     ),\n\u001b[0;32m   1812\u001b[0m ]\n\u001b[0;32m   1814\u001b[0m \u001b[38;5;28;01mreturn\u001b[39;00m out\n",
      "File \u001b[1;32m~\\anaconda3\\envs\\scvi-env\\lib\\site-packages\\pandas\\core\\accessor.py:224\u001b[0m, in \u001b[0;36mCachedAccessor.__get__\u001b[1;34m(self, obj, cls)\u001b[0m\n\u001b[0;32m    221\u001b[0m \u001b[38;5;28;01mif\u001b[39;00m obj \u001b[38;5;129;01mis\u001b[39;00m \u001b[38;5;28;01mNone\u001b[39;00m:\n\u001b[0;32m    222\u001b[0m     \u001b[38;5;66;03m# we're accessing the attribute of the class, i.e., Dataset.geo\u001b[39;00m\n\u001b[0;32m    223\u001b[0m     \u001b[38;5;28;01mreturn\u001b[39;00m \u001b[38;5;28mself\u001b[39m\u001b[38;5;241m.\u001b[39m_accessor\n\u001b[1;32m--> 224\u001b[0m accessor_obj \u001b[38;5;241m=\u001b[39m \u001b[38;5;28;43mself\u001b[39;49m\u001b[38;5;241;43m.\u001b[39;49m\u001b[43m_accessor\u001b[49m\u001b[43m(\u001b[49m\u001b[43mobj\u001b[49m\u001b[43m)\u001b[49m\n\u001b[0;32m    225\u001b[0m \u001b[38;5;66;03m# Replace the property with the accessor object. Inspired by:\u001b[39;00m\n\u001b[0;32m    226\u001b[0m \u001b[38;5;66;03m# https://www.pydanny.com/cached-property.html\u001b[39;00m\n\u001b[0;32m    227\u001b[0m \u001b[38;5;66;03m# We need to use object.__setattr__ because we overwrite __setattr__ on\u001b[39;00m\n\u001b[0;32m    228\u001b[0m \u001b[38;5;66;03m# NDFrame\u001b[39;00m\n\u001b[0;32m    229\u001b[0m \u001b[38;5;28mobject\u001b[39m\u001b[38;5;241m.\u001b[39m\u001b[38;5;21m__setattr__\u001b[39m(obj, \u001b[38;5;28mself\u001b[39m\u001b[38;5;241m.\u001b[39m_name, accessor_obj)\n",
      "File \u001b[1;32m~\\anaconda3\\envs\\scvi-env\\lib\\site-packages\\pandas\\core\\strings\\accessor.py:181\u001b[0m, in \u001b[0;36mStringMethods.__init__\u001b[1;34m(self, data)\u001b[0m\n\u001b[0;32m    178\u001b[0m \u001b[38;5;28;01mdef\u001b[39;00m \u001b[38;5;21m__init__\u001b[39m(\u001b[38;5;28mself\u001b[39m, data) \u001b[38;5;241m-\u001b[39m\u001b[38;5;241m>\u001b[39m \u001b[38;5;28;01mNone\u001b[39;00m:\n\u001b[0;32m    179\u001b[0m     \u001b[38;5;28;01mfrom\u001b[39;00m \u001b[38;5;21;01mpandas\u001b[39;00m\u001b[38;5;21;01m.\u001b[39;00m\u001b[38;5;21;01mcore\u001b[39;00m\u001b[38;5;21;01m.\u001b[39;00m\u001b[38;5;21;01marrays\u001b[39;00m\u001b[38;5;21;01m.\u001b[39;00m\u001b[38;5;21;01mstring_\u001b[39;00m \u001b[38;5;28;01mimport\u001b[39;00m StringDtype\n\u001b[1;32m--> 181\u001b[0m     \u001b[38;5;28mself\u001b[39m\u001b[38;5;241m.\u001b[39m_inferred_dtype \u001b[38;5;241m=\u001b[39m \u001b[38;5;28;43mself\u001b[39;49m\u001b[38;5;241;43m.\u001b[39;49m\u001b[43m_validate\u001b[49m\u001b[43m(\u001b[49m\u001b[43mdata\u001b[49m\u001b[43m)\u001b[49m\n\u001b[0;32m    182\u001b[0m     \u001b[38;5;28mself\u001b[39m\u001b[38;5;241m.\u001b[39m_is_categorical \u001b[38;5;241m=\u001b[39m is_categorical_dtype(data\u001b[38;5;241m.\u001b[39mdtype)\n\u001b[0;32m    183\u001b[0m     \u001b[38;5;28mself\u001b[39m\u001b[38;5;241m.\u001b[39m_is_string \u001b[38;5;241m=\u001b[39m \u001b[38;5;28misinstance\u001b[39m(data\u001b[38;5;241m.\u001b[39mdtype, StringDtype)\n",
      "File \u001b[1;32m~\\anaconda3\\envs\\scvi-env\\lib\\site-packages\\pandas\\core\\strings\\accessor.py:235\u001b[0m, in \u001b[0;36mStringMethods._validate\u001b[1;34m(data)\u001b[0m\n\u001b[0;32m    232\u001b[0m inferred_dtype \u001b[38;5;241m=\u001b[39m lib\u001b[38;5;241m.\u001b[39minfer_dtype(values, skipna\u001b[38;5;241m=\u001b[39m\u001b[38;5;28;01mTrue\u001b[39;00m)\n\u001b[0;32m    234\u001b[0m \u001b[38;5;28;01mif\u001b[39;00m inferred_dtype \u001b[38;5;129;01mnot\u001b[39;00m \u001b[38;5;129;01min\u001b[39;00m allowed_types:\n\u001b[1;32m--> 235\u001b[0m     \u001b[38;5;28;01mraise\u001b[39;00m \u001b[38;5;167;01mAttributeError\u001b[39;00m(\u001b[38;5;124m\"\u001b[39m\u001b[38;5;124mCan only use .str accessor with string values!\u001b[39m\u001b[38;5;124m\"\u001b[39m)\n\u001b[0;32m    236\u001b[0m \u001b[38;5;28;01mreturn\u001b[39;00m inferred_dtype\n",
      "\u001b[1;31mAttributeError\u001b[0m: Can only use .str accessor with string values!"
     ]
    }
   ],
   "source": [
    "solo = scvi.external.SOLO.from_scvi_model(vae)\n",
    "solo.train()"
   ]
  },
  {
   "cell_type": "markdown",
   "id": "61a647eb",
   "metadata": {},
   "source": [
    "<p style=\"color:orange; font-size:20px\">We then extract a predition dataframe. But as SOLO adds 2 characters in the barcode, we remove it for it to be the same format as Anndata.</p>"
   ]
  },
  {
   "cell_type": "code",
   "execution_count": null,
   "id": "d85115f1",
   "metadata": {},
   "outputs": [],
   "source": [
    "df = solo.predict()\n",
    "df['prediction'] = solo.predict(soft = False)\n",
    "\n",
    "df.index = df.index.map(lambda x: x[:-2])\n",
    "\n",
    "df"
   ]
  },
  {
   "cell_type": "code",
   "execution_count": null,
   "id": "7f0ba709",
   "metadata": {},
   "outputs": [],
   "source": [
    "df. groupby('prediction').count()"
   ]
  },
  {
   "cell_type": "code",
   "execution_count": null,
   "id": "a8361445",
   "metadata": {},
   "outputs": [],
   "source": [
    "adata.obs['doublet_prediction'] = df.prediction\n",
    "adata.obs"
   ]
  },
  {
   "cell_type": "markdown",
   "id": "18b25ead",
   "metadata": {},
   "source": [
    "<p style=\"color:orange; font-size:20px\">Savind data for Seurat workflow.</p>"
   ]
  },
  {
   "cell_type": "code",
   "execution_count": null,
   "id": "ba530ea6",
   "metadata": {},
   "outputs": [],
   "source": [
    "adata.obs.to_csv(\"D:/Scanpy/metadata_workflow_peng.csv\")"
   ]
  },
  {
   "cell_type": "code",
   "execution_count": null,
   "id": "851f921f",
   "metadata": {},
   "outputs": [],
   "source": [
    "metadata = pd.read_csv(\"D:/Scanpy/Workflow_A/metadata_workflow_peng.csv\", index_col = 0)\n",
    "adata.obs = metadata\n",
    "adata.obs"
   ]
  },
  {
   "cell_type": "code",
   "execution_count": null,
   "id": "2f99b638",
   "metadata": {},
   "outputs": [],
   "source": [
    "adata = adata[adata.obs.doublet_pred == 'singlet'].copy()"
   ]
  },
  {
   "cell_type": "markdown",
   "id": "0376d4cc",
   "metadata": {},
   "source": [
    "<p style=\"color:orange; font-size:20px\">Calculating QC metrics.</p>"
   ]
  },
  {
   "cell_type": "code",
   "execution_count": null,
   "id": "6397e414",
   "metadata": {},
   "outputs": [],
   "source": [
    "# mitochondrial genes\n",
    "adata.var[\"mt\"] = adata.var_names.str.startswith(\"MT-\")\n",
    "# ribosomal genes\n",
    "adata.var[\"ribo\"] = adata.var_names.str.startswith((\"RPS\", \"RPL\"))\n",
    "# hemoglobin genes.\n",
    "adata.var[\"hb\"] = adata.var_names.str.contains((\"^HB[^(P)]\"))"
   ]
  },
  {
   "cell_type": "markdown",
   "id": "025ff596",
   "metadata": {},
   "source": [
    "<p style=\"color:orange; font-size:20px\">Savind data for Seurat workflow.</p>"
   ]
  },
  {
   "cell_type": "code",
   "execution_count": null,
   "id": "293c67c8",
   "metadata": {},
   "outputs": [],
   "source": [
    "sc.pp.calculate_qc_metrics(\n",
    "    adata, qc_vars=[\"mt\", \"ribo\", \"hb\"], inplace=True, percent_top=[20], log1p=True\n",
    ")\n",
    "adata"
   ]
  },
  {
   "cell_type": "code",
   "execution_count": null,
   "id": "ca51a26e",
   "metadata": {},
   "outputs": [],
   "source": [
    "plot1 = sns.displot(adata.obs[\"total_counts\"], bins=100, kde=False)\n",
    "plot2 = sc.pl.violin(adata, \"pct_counts_mt\")\n",
    "plot3 = sc.pl.scatter(adata, \"total_counts\", \"n_genes_by_counts\", color=\"pct_counts_mt\")"
   ]
  },
  {
   "cell_type": "code",
   "execution_count": null,
   "id": "4bb4852a",
   "metadata": {},
   "outputs": [],
   "source": []
  }
 ],
 "metadata": {
  "kernelspec": {
   "display_name": "Python 3 (ipykernel)",
   "language": "python",
   "name": "python3"
  },
  "language_info": {
   "codemirror_mode": {
    "name": "ipython",
    "version": 3
   },
   "file_extension": ".py",
   "mimetype": "text/x-python",
   "name": "python",
   "nbconvert_exporter": "python",
   "pygments_lexer": "ipython3",
   "version": "3.9.16"
  }
 },
 "nbformat": 4,
 "nbformat_minor": 5
}
