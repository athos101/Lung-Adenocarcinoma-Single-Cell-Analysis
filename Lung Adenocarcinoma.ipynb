{
 "cells": [
  {
   "cell_type": "markdown",
   "id": "738600b2",
   "metadata": {},
   "source": [
    "## Loading libraries"
   ]
  },
  {
   "cell_type": "code",
   "execution_count": null,
   "id": "4cf7c58e",
   "metadata": {},
   "outputs": [
    {
     "name": "stderr",
     "output_type": "stream",
     "text": [
      "Global seed set to 0\n"
     ]
    }
   ],
   "source": [
    "import anndata as ad\n",
    "import seaborn as sns\n",
    "from matplotlib import pyplot as plt\n",
    "import scvi\n",
    "import numpy as np\n",
    "import pandas as pd\n",
    "from scipy import sparse\n",
    "from scipy.stats import median_abs_deviation\n",
    "import scanpy as sc\n",
    "import os"
   ]
  },
  {
   "cell_type": "markdown",
   "id": "db00cbc0",
   "metadata": {},
   "source": [
    "<h2>Loading data</h2>"
   ]
  },
  {
   "cell_type": "markdown",
   "id": "7adbcc35",
   "metadata": {},
   "source": [
    "<p style=\"color:orange; font-size:20px\">Reading all the samples in the respective sample path.</p>"
   ]
  },
  {
   "cell_type": "code",
   "execution_count": null,
   "id": "de3648f5",
   "metadata": {},
   "outputs": [],
   "source": [
    "temp = pd.read_table('Samples/p018n/filtered_feature_bc_matrix/features.tsv.gz', names=[0,1,2], index_col=1)\n",
    "print(temp[1:10])"
   ]
  },
  {
   "cell_type": "code",
   "execution_count": null,
   "id": "4785dae3",
   "metadata": {},
   "outputs": [],
   "source": [
    "print(temp.index.values[0:1])"
   ]
  },
  {
   "cell_type": "code",
   "execution_count": null,
   "id": "780bc1a7",
   "metadata": {},
   "outputs": [],
   "source": [
    "# Dir to the samples\n",
    "sample_path = 'Samples'\n",
    "# Folders between the sample name and the files (if doesn't exist, put '')\n",
    "middle_path = '/filtered_feature_bc_matrix'\n",
    "\n",
    "sample_names = []\n",
    "for foldername in os.listdir(sample_path):\n",
    "    if os.path.isdir(os.path.join(sample_path, foldername)):\n",
    "        sample_names.append(foldername)\n",
    "print(sample_names)\n",
    "# For each sample, read the directory to a list of samples.\n",
    "        \n",
    "sample_list = []\n",
    "\n",
    "for name in sample_names:\n",
    "    # Getting anndata (transposed to obs X vars)\n",
    "    path = f'samples/{name}{middle_path}/matrix.mtx.gz'\n",
    "    sample = sc.read(path, cache=True).T\n",
    "    \n",
    "    # Getting obs\n",
    "    path = f'samples/{name}{middle_path}/barcodes.tsv.gz'\n",
    "    obs = pd.read_table(path, sep='\\t', header=None)\n",
    "    obs.index.name = 'barcode'\n",
    "    sample.obs = obs\n",
    "    \n",
    "    # Adding metadata\n",
    "    sample.obs['Patient'] = name\n",
    "    sample.obs['Condition'] = name[-1].upper()\n",
    "    \n",
    "    # Getting vars\n",
    "    path = f\"samples/{name}{middle_path}/features.tsv.gz\"\n",
    "    var = pd.read_table(path, sep='\\t', header=None, index_col=1)\n",
    "    var.index.name = 'genes'\n",
    "    sample.var = var\n",
    "    sample.var_names_make_unique(join=\"-\")\n",
    "    \n",
    "    \n",
    "    sample_list.append(sample)\n",
    "sample_list"
   ]
  },
  {
   "cell_type": "code",
   "execution_count": null,
   "id": "5658790e",
   "metadata": {},
   "outputs": [],
   "source": [
    "adata = ad.concat(sample_list)\n",
    "del sample_list\n",
    "adata.obs_names_make_unique(join=\"-\")\n",
    "adata.obs['author'] = 'Peng_2019'\n",
    "adata"
   ]
  },
  {
   "cell_type": "code",
   "execution_count": null,
   "id": "2f9a692f",
   "metadata": {},
   "outputs": [],
   "source": [
    "print(adata.var_names[0:10])"
   ]
  },
  {
   "cell_type": "markdown",
   "id": "b40a6478",
   "metadata": {},
   "source": [
    "## QC - Removing doublets with SOLO (scVI)"
   ]
  },
  {
   "cell_type": "markdown",
   "id": "86a93d29",
   "metadata": {},
   "source": [
    "<p style=\"color:orange; font-size:20px\">Making the model.</p>"
   ]
  },
  {
   "cell_type": "code",
   "execution_count": null,
   "id": "9cdfab4d",
   "metadata": {},
   "outputs": [],
   "source": [
    "adata.layers['counts'] = adata.X.copy()\n",
    "sc.pp.normalize_total(adata, target_sum=1e4)\n",
    "sc.pp.log1p(adata)"
   ]
  },
  {
   "cell_type": "code",
   "execution_count": null,
   "id": "3594ae6d",
   "metadata": {},
   "outputs": [],
   "source": [
    "sc.pp.highly_variable_genes(adata, flavor='seurat_v3', n_top_genes=3000, layer='counts',subset=True, batch_key=\"author\")"
   ]
  },
  {
   "cell_type": "code",
   "execution_count": null,
   "id": "2984d6f2",
   "metadata": {},
   "outputs": [],
   "source": [
    "adata"
   ]
  },
  {
   "cell_type": "code",
   "execution_count": null,
   "id": "8460cfa2",
   "metadata": {},
   "outputs": [],
   "source": [
    "scvi.model.SCVI.setup_anndata(adata)\n",
    "model = scvi.model.SCVI(adata)\n",
    "model.train()"
   ]
  },
  {
   "cell_type": "markdown",
   "id": "e7327206",
   "metadata": {},
   "source": [
    "<p style=\"color:orange; font-size:20px\">Creating and training SOLO model.</p>"
   ]
  },
  {
   "cell_type": "code",
   "execution_count": null,
   "id": "43f525d6",
   "metadata": {},
   "outputs": [],
   "source": [
    "solo = scvi.external.SOLO.from_scvi_model(model)\n",
    "solo.train()"
   ]
  },
  {
   "cell_type": "markdown",
   "id": "61a647eb",
   "metadata": {},
   "source": [
    "<p style=\"color:orange; font-size:20px\">We then extract a predition dataframe. But as SOLO adds 2 characters in the barcode, we remove it for it to be the same format as Anndata.</p>"
   ]
  },
  {
   "cell_type": "code",
   "execution_count": null,
   "id": "d85115f1",
   "metadata": {},
   "outputs": [],
   "source": [
    "df = solo.predict()\n",
    "df['prediction'] = solo.predict(soft = False)\n",
    "df.index = df.index.map(lambda x: x[:-2])\n",
    "df"
   ]
  },
  {
   "cell_type": "code",
   "execution_count": null,
   "id": "7f0ba709",
   "metadata": {},
   "outputs": [],
   "source": [
    "df. groupby('prediction').count()"
   ]
  },
  {
   "cell_type": "code",
   "execution_count": null,
   "id": "a8361445",
   "metadata": {},
   "outputs": [],
   "source": [
    "adata.obs['doublet_prediction'] = df.prediction\n",
    "adata.obs"
   ]
  },
  {
   "cell_type": "markdown",
   "id": "18b25ead",
   "metadata": {},
   "source": [
    "<p style=\"color:orange; font-size:20px\">Savind data for Seurat workflow.</p>"
   ]
  },
  {
   "cell_type": "code",
   "execution_count": null,
   "id": "ba530ea6",
   "metadata": {},
   "outputs": [],
   "source": [
    "adata.obs.to_csv(\"D:/Scanpy/metadata_workflow_peng.csv\")"
   ]
  },
  {
   "cell_type": "code",
   "execution_count": null,
   "id": "851f921f",
   "metadata": {},
   "outputs": [],
   "source": [
    "metadata = pd.read_csv(\"D:/Scanpy/Workflow_A/metadata_workflow_peng.csv\", index_col = 0)\n",
    "adata.obs = metadata\n",
    "adata.obs"
   ]
  },
  {
   "cell_type": "code",
   "execution_count": null,
   "id": "2f99b638",
   "metadata": {},
   "outputs": [],
   "source": [
    "adata = adata[adata.obs.doublet_pred == 'singlet'].copy()"
   ]
  },
  {
   "cell_type": "markdown",
   "id": "03d236ea",
   "metadata": {},
   "source": [
    "## Filtering low quality cells"
   ]
  },
  {
   "cell_type": "markdown",
   "id": "0376d4cc",
   "metadata": {},
   "source": [
    "<p style=\"color:orange; font-size:20px\">Calculating QC metrics.</p>"
   ]
  },
  {
   "cell_type": "code",
   "execution_count": null,
   "id": "6397e414",
   "metadata": {},
   "outputs": [],
   "source": [
    "# mitochondrial genes\n",
    "adata.var[\"mt\"] = adata.var_names.str.startswith(\"MT-\")\n",
    "# ribosomal genes\n",
    "adata.var[\"ribo\"] = adata.var_names.str.startswith((\"RPS\", \"RPL\"))\n",
    "# hemoglobin genes.\n",
    "adata.var[\"hb\"] = adata.var_names.str.contains((\"^HB[^(P)]\"))"
   ]
  },
  {
   "cell_type": "code",
   "execution_count": null,
   "id": "293c67c8",
   "metadata": {},
   "outputs": [],
   "source": [
    "sc.pp.calculate_qc_metrics(\n",
    "    adata, qc_vars=[\"mt\", \"ribo\", \"hb\"], inplace=True, percent_top=[20], log1p=True\n",
    ")\n",
    "adata"
   ]
  },
  {
   "cell_type": "code",
   "execution_count": null,
   "id": "ca51a26e",
   "metadata": {},
   "outputs": [],
   "source": [
    "plot1 = sns.displot(adata.obs[\"total_counts\"], bins=100, kde=False)\n",
    "plot3 = sc.pl.scatter(adata, \"total_counts\", \"n_genes_by_counts\")"
   ]
  },
  {
   "cell_type": "code",
   "execution_count": null,
   "id": "4bb4852a",
   "metadata": {},
   "outputs": [],
   "source": [
    "sc.pl.violin(adata, ['n_genes_by_counts', 'total_counts', 'pct_counts_ribo', 'pct_counts_hb'],\n",
    "         jitter=0.4, multi_panel=True)"
   ]
  },
  {
   "cell_type": "markdown",
   "id": "0d5a5939",
   "metadata": {},
   "source": [
    "<p style=\"color:orange; font-size:20px\">Automatic threshold (outlier detection) with MAD.</p>"
   ]
  },
  {
   "cell_type": "code",
   "execution_count": null,
   "id": "4a190cb5",
   "metadata": {},
   "outputs": [],
   "source": [
    "def is_outlier(adata, metric: str, nmads: int):\n",
    "    M = adata.obs[metric]\n",
    "    outlier = (M < np.median(M) - nmads * median_abs_deviation(M)) | (\n",
    "        np.median(M) + nmads * median_abs_deviation(M) < M\n",
    "    )\n",
    "    return outlier"
   ]
  },
  {
   "cell_type": "code",
   "execution_count": null,
   "id": "55338b68",
   "metadata": {},
   "outputs": [],
   "source": [
    "adata.obs[\"outlier\"] = (\n",
    "    is_outlier(adata, \"log1p_total_counts\", 5)\n",
    "    | is_outlier(adata, \"log1p_n_genes_by_counts\", 5)\n",
    "    | is_outlier(adata, \"pct_counts_in_top_20_genes\", 5)\n",
    ")\n",
    "\n",
    "adata.obs.outlier.value_counts()"
   ]
  },
  {
   "cell_type": "code",
   "execution_count": null,
   "id": "a7ad16f2",
   "metadata": {},
   "outputs": [],
   "source": [
    "print(f\"Total number of cells: {adata.n_obs}\")\n",
    "adata = adata[(~adata.obs.outlier)].copy()\n",
    "\n",
    "print(f\"Number of cells after filtering of low quality cells: {adata.n_obs}\")"
   ]
  },
  {
   "cell_type": "code",
   "execution_count": null,
   "id": "5e862f98",
   "metadata": {},
   "outputs": [],
   "source": [
    "sc.pl.highest_expr_genes(adata, n_top=20, )"
   ]
  }
 ],
 "metadata": {
  "kernelspec": {
   "display_name": "Python 3 (ipykernel)",
   "language": "python",
   "name": "python3"
  },
  "language_info": {
   "codemirror_mode": {
    "name": "ipython",
    "version": 3
   },
   "file_extension": ".py",
   "mimetype": "text/x-python",
   "name": "python",
   "nbconvert_exporter": "python",
   "pygments_lexer": "ipython3",
   "version": "3.9.16"
  }
 },
 "nbformat": 4,
 "nbformat_minor": 5
}
